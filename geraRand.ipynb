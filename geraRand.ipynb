{
 "cells": [
  {
   "cell_type": "markdown",
   "metadata": {},
   "source": [
    "# COMO GERAR NÚMEROS PSEUDOALEATÓRIOS?\n",
    "\n",
    "\n",
    "Para gerar número pseudoaleatórios existem várias fórmulas, mas tudo depende da semente e do intervalo a ser utilizado. Usa-se muito nas fórmulas a operação n mod d onde o operador mod signfica o resto da divisão inteira de n (numerador) por d (divisor). Assim, o resto seria no máximo d-1. Ou seja, 10 mod 11 = 10.\n",
    "\n",
    "São pseudoaleatórios, pois para quem não sabe qual a SEMENTE e a fórmula, parece aleatório. O segredo é sempre variar a SEMENTE.\n",
    "\n",
    "Sem delongas, suponha que a fórmula seja:\n",
    "numero = (7 x SEMENTE) mod 11, já sabemos que gerará número até no máximo 10.\n",
    "\n",
    "Seja a SEMENTE inicial igual a 2. Assim,\n",
    "numero1 = (7 x 2) mod 11 = 14 mod 11 = 3\n",
    "Usando 4 como a próxima SEMENTE,\n",
    "numero2 = (7 x 3) mod 11 = 21 mod 11 = 10\n",
    "Usando 10, como próxima SEMENTE,\n",
    "numero3 = (7 x 10) mod 11 = 70 mod 11 = 4\n",
    "Usando 4 como próxima SEMENTE,\n",
    "numero4 = (7 x 4) mod 11 = 28 mod 11 = 6,\n",
    "\n",
    "Ou seja, com essa fórmula simples geramos uma sequência aparentemente aleatória de 3, 10, 4 e 6.\n",
    "\n",
    "Se usarmos como SEMENTE inicial a hora do relógio em minutos ou segundo inteiros, dificilmente teremos a mesma sequência. Mas se começarmos novamente com a mesma semente, teremos a mesma sequência.\n",
    "Existem fórmulas mais complexas e melhores, mas o recado foi dado.\n",
    "\n",
    "##### ERA ISSO."
   ]
  },
  {
   "cell_type": "code",
   "execution_count": null,
   "metadata": {},
   "outputs": [],
   "source": []
  }
 ],
 "metadata": {
  "kernelspec": {
   "display_name": "Python 3",
   "language": "python",
   "name": "python3"
  },
  "language_info": {
   "codemirror_mode": {
    "name": "ipython",
    "version": 3
   },
   "file_extension": ".py",
   "mimetype": "text/x-python",
   "name": "python",
   "nbconvert_exporter": "python",
   "pygments_lexer": "ipython3",
   "version": "3.8.5"
  }
 },
 "nbformat": 4,
 "nbformat_minor": 4
}
